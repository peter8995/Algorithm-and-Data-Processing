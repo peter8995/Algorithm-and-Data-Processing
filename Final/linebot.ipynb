{
 "cells": [
  {
   "cell_type": "code",
   "execution_count": 1,
   "metadata": {},
   "outputs": [],
   "source": [
    "import numpy as np\n",
    "import pandas as pd\n",
    "from to_sequences_1 import to_sequences\n",
    "from sklearn.preprocessing import MinMaxScaler\n",
    "from keras.models import load_model\n",
    "\n",
    "model = load_model('fog_model.h5')\n",
    "lookback = 72"
   ]
  },
  {
   "cell_type": "code",
   "execution_count": 2,
   "metadata": {},
   "outputs": [
    {
     "name": "stdout",
     "output_type": "stream",
     "text": [
      "<class 'pandas.core.frame.DataFrame'>\n",
      "RangeIndex: 72 entries, 0 to 71\n",
      "Data columns (total 5 columns):\n",
      " #   Column  Non-Null Count  Dtype  \n",
      "---  ------  --------------  -----  \n",
      " 0   temp    72 non-null     float64\n",
      " 1   dpTemp  72 non-null     float64\n",
      " 2   RH      72 non-null     float64\n",
      " 3   WDIR    72 non-null     float64\n",
      " 4   VIZ     72 non-null     float64\n",
      "dtypes: float64(5)\n",
      "memory usage: 2.9 KB\n"
     ]
    }
   ],
   "source": [
    "predictdata = pd.read_csv('./testdata.csv')\n",
    "predictdata.drop(predictdata.index[predictdata[(predictdata.values == 'X') | \\\n",
    "    (predictdata.values == 'V')].index], inplace=True)\n",
    "predictdata = predictdata.drop(['time','Label'],axis=1)\n",
    "predictdata = predictdata.astype(\"float64\")\n",
    "predictdata.info()"
   ]
  },
  {
   "cell_type": "code",
   "execution_count": 3,
   "metadata": {},
   "outputs": [
    {
     "data": {
      "text/plain": [
       "((72, 5), (72, 1))"
      ]
     },
     "execution_count": 3,
     "metadata": {},
     "output_type": "execute_result"
    }
   ],
   "source": [
    "scalerPredict = MinMaxScaler(feature_range=(0, 1))  # Also try QuantileTransformer\n",
    "scaleredPredict = scalerPredict.fit_transform(predictdata)\n",
    "\n",
    "scalerYPredict = MinMaxScaler(feature_range=(0, 1))\n",
    "YPredict = scalerYPredict.fit_transform(predictdata['VIZ'].values.reshape(-1, 1))\n",
    "scaleredPredict.shape, YPredict.shape"
   ]
  },
  {
   "cell_type": "code",
   "execution_count": null,
   "metadata": {},
   "outputs": [],
   "source": [
    "predictX, predictY = to_sequences(predictdata.values, lookback)"
   ]
  },
  {
   "cell_type": "code",
   "execution_count": 5,
   "metadata": {},
   "outputs": [
    {
     "data": {
      "text/plain": [
       "((1, 72, 4), (1, 72))"
      ]
     },
     "execution_count": 5,
     "metadata": {},
     "output_type": "execute_result"
    }
   ],
   "source": [
    "predictX.shape, predictY.shape"
   ]
  },
  {
   "cell_type": "code",
   "execution_count": 6,
   "metadata": {},
   "outputs": [],
   "source": [
    "predictX = np.reshape(predictX, (predictX.shape[0], 1, -1))"
   ]
  },
  {
   "cell_type": "code",
   "execution_count": 7,
   "metadata": {},
   "outputs": [],
   "source": [
    "threeDayPredict = model.predict(predictX)"
   ]
  },
  {
   "cell_type": "code",
   "execution_count": 9,
   "metadata": {},
   "outputs": [
    {
     "data": {
      "text/plain": [
       "(1, 1)"
      ]
     },
     "execution_count": 9,
     "metadata": {},
     "output_type": "execute_result"
    }
   ],
   "source": [
    "threeDayPredict.shape"
   ]
  },
  {
   "cell_type": "code",
   "execution_count": 10,
   "metadata": {},
   "outputs": [],
   "source": [
    "threeDayPredictOutput = scalerYPredict.inverse_transform(threeDayPredict)"
   ]
  },
  {
   "cell_type": "code",
   "execution_count": 11,
   "metadata": {},
   "outputs": [
    {
     "name": "stdout",
     "output_type": "stream",
     "text": [
      "[[1.0648736]]\n"
     ]
    }
   ],
   "source": [
    "print(threeDayPredictOutput)"
   ]
  }
 ],
 "metadata": {
  "kernelspec": {
   "display_name": "Python 3.8.3 ('tfenv')",
   "language": "python",
   "name": "python3"
  },
  "language_info": {
   "codemirror_mode": {
    "name": "ipython",
    "version": 3
   },
   "file_extension": ".py",
   "mimetype": "text/x-python",
   "name": "python",
   "nbconvert_exporter": "python",
   "pygments_lexer": "ipython3",
   "version": "3.8.3"
  },
  "orig_nbformat": 4,
  "vscode": {
   "interpreter": {
    "hash": "9b3b3adc6d8e141c308215729b3dbd8a21484cc522669b570a751a91e17c3cbd"
   }
  }
 },
 "nbformat": 4,
 "nbformat_minor": 2
}
